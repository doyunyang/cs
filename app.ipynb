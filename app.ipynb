{
 "cells": [
  {
   "cell_type": "code",
   "execution_count": 5,
   "metadata": {},
   "outputs": [
    {
     "name": "stdout",
     "output_type": "stream",
     "text": [
      "Requirement already satisfied: flask_sqlalchemy in c:\\users\\cr11\\anaconda\\lib\\site-packages (3.1.1)\n",
      "Requirement already satisfied: flask>=2.2.5 in c:\\users\\cr11\\anaconda\\lib\\site-packages (from flask_sqlalchemy) (2.2.5)\n",
      "Requirement already satisfied: sqlalchemy>=2.0.16 in c:\\users\\cr11\\anaconda\\lib\\site-packages (from flask_sqlalchemy) (2.0.25)\n",
      "Requirement already satisfied: Werkzeug>=2.2.2 in c:\\users\\cr11\\anaconda\\lib\\site-packages (from flask>=2.2.5->flask_sqlalchemy) (2.2.3)\n",
      "Requirement already satisfied: Jinja2>=3.0 in c:\\users\\cr11\\anaconda\\lib\\site-packages (from flask>=2.2.5->flask_sqlalchemy) (3.1.3)\n",
      "Requirement already satisfied: itsdangerous>=2.0 in c:\\users\\cr11\\anaconda\\lib\\site-packages (from flask>=2.2.5->flask_sqlalchemy) (2.0.1)\n",
      "Requirement already satisfied: click>=8.0 in c:\\users\\cr11\\anaconda\\lib\\site-packages (from flask>=2.2.5->flask_sqlalchemy) (8.1.7)\n",
      "Requirement already satisfied: typing-extensions>=4.6.0 in c:\\users\\cr11\\anaconda\\lib\\site-packages (from sqlalchemy>=2.0.16->flask_sqlalchemy) (4.9.0)\n",
      "Requirement already satisfied: greenlet!=0.4.17 in c:\\users\\cr11\\anaconda\\lib\\site-packages (from sqlalchemy>=2.0.16->flask_sqlalchemy) (3.0.1)\n",
      "Requirement already satisfied: colorama in c:\\users\\cr11\\anaconda\\lib\\site-packages (from click>=8.0->flask>=2.2.5->flask_sqlalchemy) (0.4.6)\n",
      "Requirement already satisfied: MarkupSafe>=2.0 in c:\\users\\cr11\\anaconda\\lib\\site-packages (from Jinja2>=3.0->flask>=2.2.5->flask_sqlalchemy) (2.1.3)\n"
     ]
    }
   ],
   "source": [
    "!pip install flask_sqlalchemy"
   ]
  },
  {
   "cell_type": "code",
   "execution_count": 6,
   "metadata": {},
   "outputs": [
    {
     "name": "stdout",
     "output_type": "stream",
     "text": [
      " * Serving Flask app '__main__'\n",
      " * Debug mode: on\n"
     ]
    },
    {
     "name": "stderr",
     "output_type": "stream",
     "text": [
      "WARNING: This is a development server. Do not use it in a production deployment. Use a production WSGI server instead.\n",
      " * Running on http://127.0.0.1:5000\n",
      "Press CTRL+C to quit\n",
      " * Restarting with watchdog (windowsapi)\n"
     ]
    },
    {
     "ename": "SystemExit",
     "evalue": "1",
     "output_type": "error",
     "traceback": [
      "An exception has occurred, use %tb to see the full traceback.\n",
      "\u001b[1;31mSystemExit\u001b[0m\u001b[1;31m:\u001b[0m 1\n"
     ]
    }
   ],
   "source": [
    "from flask import Flask, render_template\n",
    "app = Flask(__name__)\n",
    "@app.route('/')\n",
    "def home():\n",
    "    return render_template('home.html')\n",
    "if __name__==\"__main__\":\n",
    "    app.run(debug=True)"
   ]
  },
  {
   "cell_type": "code",
   "execution_count": null,
   "metadata": {},
   "outputs": [],
   "source": []
  }
 ],
 "metadata": {
  "kernelspec": {
   "display_name": "base",
   "language": "python",
   "name": "python3"
  },
  "language_info": {
   "codemirror_mode": {
    "name": "ipython",
    "version": 3
   },
   "file_extension": ".py",
   "mimetype": "text/x-python",
   "name": "python",
   "nbconvert_exporter": "python",
   "pygments_lexer": "ipython3",
   "version": "3.11.7"
  }
 },
 "nbformat": 4,
 "nbformat_minor": 2
}
